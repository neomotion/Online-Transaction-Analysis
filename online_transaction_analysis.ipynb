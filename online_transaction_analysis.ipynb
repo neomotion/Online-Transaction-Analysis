{
 "cells": [
  {
   "cell_type": "markdown",
   "id": "e474c320-ce9f-4a30-a70f-064511c1f902",
   "metadata": {},
   "source": [
    "**Imports**"
   ]
  },
  {
   "cell_type": "code",
   "execution_count": 53,
   "id": "22b241ab-b527-4c1d-a521-236143eaa463",
   "metadata": {},
   "outputs": [],
   "source": [
    "import numpy as np \n",
    "import pandas as pd\n",
    "\n",
    "from sklearn.preprocessing import OneHotEncoder\n",
    "from sklearn.model_selection import train_test_split\n",
    "from sklearn.metrics import roc_auc_score, classification_report, accuracy_score, confusion_matrix, \\\n",
    "                            mean_absolute_error, fbeta_score, make_scorer\n",
    "from sklearn.model_selection import cross_val_score, GridSearchCV, KFold, \\\n",
    "                                    RandomizedSearchCV, StratifiedKFold, StratifiedShuffleSplit\n",
    "\n",
    "import seaborn as sns\n",
    "import matplotlib.pyplot as plt\n",
    "%matplotlib inline\n",
    "\n",
    "import xgboost as xgb\n",
    "from sklearn.ensemble import RandomForestClassifier\n",
    "from hyperopt import hp, fmin, tpe, Trials\n",
    "from xgboost import XGBClassifier"
   ]
  },
  {
   "cell_type": "code",
   "execution_count": 3,
   "id": "9c9dfc60-000e-4c1c-ac77-1aa166eec6c1",
   "metadata": {},
   "outputs": [],
   "source": [
    "import warnings\n",
    "warnings.filterwarnings('ignore')"
   ]
  },
  {
   "cell_type": "code",
   "execution_count": null,
   "id": "65cf5516-bfcb-401d-b11a-617cb65bacb6",
   "metadata": {},
   "outputs": [],
   "source": []
  },
  {
   "cell_type": "markdown",
   "id": "c4c85edc-7e71-46f7-94c7-45999ca458e3",
   "metadata": {},
   "source": [
    "**Ingest**"
   ]
  },
  {
   "cell_type": "code",
   "execution_count": 4,
   "id": "84b05db4-443a-4c1f-a470-22739e0341db",
   "metadata": {},
   "outputs": [],
   "source": [
    "df = pd.read_csv('online_fraud.csv')"
   ]
  },
  {
   "cell_type": "code",
   "execution_count": 5,
   "id": "8962dc0a-19a9-43ef-8fa6-7ed086edbdb6",
   "metadata": {},
   "outputs": [
    {
     "data": {
      "text/plain": [
       "Index(['step', 'type', 'amount', 'nameOrig', 'oldbalanceOrg', 'newbalanceOrig',\n",
       "       'nameDest', 'oldbalanceDest', 'newbalanceDest', 'isFraud',\n",
       "       'isFlaggedFraud'],\n",
       "      dtype='object')"
      ]
     },
     "execution_count": 5,
     "metadata": {},
     "output_type": "execute_result"
    }
   ],
   "source": [
    "df.columns"
   ]
  },
  {
   "cell_type": "code",
   "execution_count": 6,
   "id": "4cbd7bdf-0e41-47ad-9478-93671e8741e0",
   "metadata": {},
   "outputs": [
    {
     "data": {
      "text/html": [
       "<div>\n",
       "<style scoped>\n",
       "    .dataframe tbody tr th:only-of-type {\n",
       "        vertical-align: middle;\n",
       "    }\n",
       "\n",
       "    .dataframe tbody tr th {\n",
       "        vertical-align: top;\n",
       "    }\n",
       "\n",
       "    .dataframe thead th {\n",
       "        text-align: right;\n",
       "    }\n",
       "</style>\n",
       "<table border=\"1\" class=\"dataframe\">\n",
       "  <thead>\n",
       "    <tr style=\"text-align: right;\">\n",
       "      <th></th>\n",
       "      <th>step</th>\n",
       "      <th>amount</th>\n",
       "      <th>oldbalanceOrg</th>\n",
       "      <th>newbalanceOrig</th>\n",
       "      <th>oldbalanceDest</th>\n",
       "      <th>newbalanceDest</th>\n",
       "      <th>isFraud</th>\n",
       "      <th>isFlaggedFraud</th>\n",
       "    </tr>\n",
       "  </thead>\n",
       "  <tbody>\n",
       "    <tr>\n",
       "      <th>count</th>\n",
       "      <td>6.362620e+06</td>\n",
       "      <td>6.362620e+06</td>\n",
       "      <td>6.362620e+06</td>\n",
       "      <td>6.362620e+06</td>\n",
       "      <td>6.362620e+06</td>\n",
       "      <td>6.362620e+06</td>\n",
       "      <td>6.362620e+06</td>\n",
       "      <td>6.362620e+06</td>\n",
       "    </tr>\n",
       "    <tr>\n",
       "      <th>mean</th>\n",
       "      <td>2.433972e+02</td>\n",
       "      <td>1.798619e+05</td>\n",
       "      <td>8.338831e+05</td>\n",
       "      <td>8.551137e+05</td>\n",
       "      <td>1.100702e+06</td>\n",
       "      <td>1.224996e+06</td>\n",
       "      <td>1.290820e-03</td>\n",
       "      <td>2.514687e-06</td>\n",
       "    </tr>\n",
       "    <tr>\n",
       "      <th>std</th>\n",
       "      <td>1.423320e+02</td>\n",
       "      <td>6.038582e+05</td>\n",
       "      <td>2.888243e+06</td>\n",
       "      <td>2.924049e+06</td>\n",
       "      <td>3.399180e+06</td>\n",
       "      <td>3.674129e+06</td>\n",
       "      <td>3.590480e-02</td>\n",
       "      <td>1.585775e-03</td>\n",
       "    </tr>\n",
       "    <tr>\n",
       "      <th>min</th>\n",
       "      <td>1.000000e+00</td>\n",
       "      <td>0.000000e+00</td>\n",
       "      <td>0.000000e+00</td>\n",
       "      <td>0.000000e+00</td>\n",
       "      <td>0.000000e+00</td>\n",
       "      <td>0.000000e+00</td>\n",
       "      <td>0.000000e+00</td>\n",
       "      <td>0.000000e+00</td>\n",
       "    </tr>\n",
       "    <tr>\n",
       "      <th>25%</th>\n",
       "      <td>1.560000e+02</td>\n",
       "      <td>1.338957e+04</td>\n",
       "      <td>0.000000e+00</td>\n",
       "      <td>0.000000e+00</td>\n",
       "      <td>0.000000e+00</td>\n",
       "      <td>0.000000e+00</td>\n",
       "      <td>0.000000e+00</td>\n",
       "      <td>0.000000e+00</td>\n",
       "    </tr>\n",
       "    <tr>\n",
       "      <th>50%</th>\n",
       "      <td>2.390000e+02</td>\n",
       "      <td>7.487194e+04</td>\n",
       "      <td>1.420800e+04</td>\n",
       "      <td>0.000000e+00</td>\n",
       "      <td>1.327057e+05</td>\n",
       "      <td>2.146614e+05</td>\n",
       "      <td>0.000000e+00</td>\n",
       "      <td>0.000000e+00</td>\n",
       "    </tr>\n",
       "    <tr>\n",
       "      <th>75%</th>\n",
       "      <td>3.350000e+02</td>\n",
       "      <td>2.087215e+05</td>\n",
       "      <td>1.073152e+05</td>\n",
       "      <td>1.442584e+05</td>\n",
       "      <td>9.430367e+05</td>\n",
       "      <td>1.111909e+06</td>\n",
       "      <td>0.000000e+00</td>\n",
       "      <td>0.000000e+00</td>\n",
       "    </tr>\n",
       "    <tr>\n",
       "      <th>max</th>\n",
       "      <td>7.430000e+02</td>\n",
       "      <td>9.244552e+07</td>\n",
       "      <td>5.958504e+07</td>\n",
       "      <td>4.958504e+07</td>\n",
       "      <td>3.560159e+08</td>\n",
       "      <td>3.561793e+08</td>\n",
       "      <td>1.000000e+00</td>\n",
       "      <td>1.000000e+00</td>\n",
       "    </tr>\n",
       "  </tbody>\n",
       "</table>\n",
       "</div>"
      ],
      "text/plain": [
       "               step        amount  oldbalanceOrg  newbalanceOrig  \\\n",
       "count  6.362620e+06  6.362620e+06   6.362620e+06    6.362620e+06   \n",
       "mean   2.433972e+02  1.798619e+05   8.338831e+05    8.551137e+05   \n",
       "std    1.423320e+02  6.038582e+05   2.888243e+06    2.924049e+06   \n",
       "min    1.000000e+00  0.000000e+00   0.000000e+00    0.000000e+00   \n",
       "25%    1.560000e+02  1.338957e+04   0.000000e+00    0.000000e+00   \n",
       "50%    2.390000e+02  7.487194e+04   1.420800e+04    0.000000e+00   \n",
       "75%    3.350000e+02  2.087215e+05   1.073152e+05    1.442584e+05   \n",
       "max    7.430000e+02  9.244552e+07   5.958504e+07    4.958504e+07   \n",
       "\n",
       "       oldbalanceDest  newbalanceDest       isFraud  isFlaggedFraud  \n",
       "count    6.362620e+06    6.362620e+06  6.362620e+06    6.362620e+06  \n",
       "mean     1.100702e+06    1.224996e+06  1.290820e-03    2.514687e-06  \n",
       "std      3.399180e+06    3.674129e+06  3.590480e-02    1.585775e-03  \n",
       "min      0.000000e+00    0.000000e+00  0.000000e+00    0.000000e+00  \n",
       "25%      0.000000e+00    0.000000e+00  0.000000e+00    0.000000e+00  \n",
       "50%      1.327057e+05    2.146614e+05  0.000000e+00    0.000000e+00  \n",
       "75%      9.430367e+05    1.111909e+06  0.000000e+00    0.000000e+00  \n",
       "max      3.560159e+08    3.561793e+08  1.000000e+00    1.000000e+00  "
      ]
     },
     "execution_count": 6,
     "metadata": {},
     "output_type": "execute_result"
    }
   ],
   "source": [
    "df.describe()"
   ]
  },
  {
   "cell_type": "code",
   "execution_count": 7,
   "id": "95d7ae81-b34a-4049-a5cb-76c45b7b5b2e",
   "metadata": {},
   "outputs": [
    {
     "data": {
      "text/plain": [
       "step              0\n",
       "type              0\n",
       "amount            0\n",
       "nameOrig          0\n",
       "oldbalanceOrg     0\n",
       "newbalanceOrig    0\n",
       "nameDest          0\n",
       "oldbalanceDest    0\n",
       "newbalanceDest    0\n",
       "isFraud           0\n",
       "isFlaggedFraud    0\n",
       "dtype: int64"
      ]
     },
     "execution_count": 7,
     "metadata": {},
     "output_type": "execute_result"
    }
   ],
   "source": [
    "df.isnull().sum()"
   ]
  },
  {
   "cell_type": "code",
   "execution_count": 8,
   "id": "4d4a9f71-6a43-4c89-bba0-db34e46c508b",
   "metadata": {},
   "outputs": [
    {
     "name": "stdout",
     "output_type": "stream",
     "text": [
      "isFraud\n",
      "0    0.998709\n",
      "1    0.001291\n",
      "Name: proportion, dtype: float64\n",
      "isFraud\n",
      "0    6354407\n",
      "1       8213\n",
      "Name: count, dtype: int64\n"
     ]
    }
   ],
   "source": [
    "print(df.isFraud.value_counts(normalize=True))\n",
    "print(df.isFraud.value_counts(normalize=False))"
   ]
  },
  {
   "cell_type": "code",
   "execution_count": 9,
   "id": "c1b27745-e249-4cd3-8e45-b961d7feb8d3",
   "metadata": {},
   "outputs": [
    {
     "name": "stdout",
     "output_type": "stream",
     "text": [
      "isFlaggedFraud\n",
      "0    0.999997\n",
      "1    0.000003\n",
      "Name: proportion, dtype: float64\n",
      "isFlaggedFraud\n",
      "0    6362604\n",
      "1         16\n",
      "Name: count, dtype: int64\n"
     ]
    }
   ],
   "source": [
    "print(df.isFlaggedFraud.value_counts(normalize=True))\n",
    "print(df.isFlaggedFraud.value_counts(normalize=False))"
   ]
  },
  {
   "cell_type": "code",
   "execution_count": null,
   "id": "f286b0ac-f081-47b2-9324-27be07684a6e",
   "metadata": {},
   "outputs": [],
   "source": []
  },
  {
   "cell_type": "markdown",
   "id": "0f597376-f271-46b0-912c-8a6168326d25",
   "metadata": {},
   "source": [
    "**EDA**"
   ]
  },
  {
   "cell_type": "markdown",
   "id": "68ec727f-0d56-46f4-b259-20d9f7cb196b",
   "metadata": {},
   "source": [
    "\"\"\"\n",
    "Seems like Fraud labels are highly skewed and flagged_fraud are even more.\n",
    "\n",
    "Ideally we can base our study/EDA on why this fruad to fraud flagging funnel flows!\n",
    "- Why so steep falloff from fraud to flagged_fraud?\n",
    "- What params effect flagged_fraud cases?\n",
    "\"\"\""
   ]
  },
  {
   "cell_type": "code",
   "execution_count": 17,
   "id": "66c21619-f7e1-4501-8a64-fae5e5dd286c",
   "metadata": {},
   "outputs": [
    {
     "data": {
      "image/png": "[encoded data removed]",
      "text/plain": [
       "<Figure size 720x216 with 1 Axes>"
      ]
     },
     "metadata": {},
     "output_type": "display_data"
    }
   ],
   "source": [
    "plt.figure(figsize=(10,3))\n",
    "sns.countplot(data = df , palette='coolwarm' , x = 'type')\n",
    "plt.xlabel('Type')\n",
    "plt.ylabel('Counts')\n",
    "plt.grid(axis='y', alpha=0.8)\n",
    "plt.show()"
   ]
  },
  {
   "cell_type": "code",
   "execution_count": 18,
   "id": "c8fd8f19-5156-4cb0-b84d-b8883597b329",
   "metadata": {},
   "outputs": [
    {
     "data": {
      "image/png": "[encoded data removed]",
      "text/plain": [
       "<Figure size 432x288 with 1 Axes>"
      ]
     },
     "metadata": {},
     "output_type": "display_data"
    }
   ],
   "source": [
    "plt.scatter(df['oldbalanceDest'], df['newbalanceOrig'], label='Data')\n",
    "plt.xlabel('oldbalanceDest')\n",
    "plt.ylabel('newbalanceOrig')\n",
    "plt.title('oldbalanceDest vs. newbalanceOrig')\n",
    "plt.grid(True)\n",
    "plt.show()"
   ]
  },
  {
   "cell_type": "code",
   "execution_count": 19,
   "id": "45e4020e-4d72-4b9e-885f-2f26ece4dfc7",
   "metadata": {},
   "outputs": [
    {
     "data": {
      "image/png": "[encoded data removed]",
      "text/plain": [
       "<Figure size 432x288 with 1 Axes>"
      ]
     },
     "metadata": {},
     "output_type": "display_data"
    }
   ],
   "source": [
    "plt.scatter(df['oldbalanceOrg'], df['newbalanceOrig'], label='Data')\n",
    "plt.xlabel('oldbalanceOrg')\n",
    "plt.ylabel('newbalanceOrig')\n",
    "plt.title('oldbalanceOrg vs. newbalanceOrig')\n",
    "plt.grid(True)\n",
    "plt.show()"
   ]
  },
  {
   "cell_type": "code",
   "execution_count": null,
   "id": "7be136c0-9c3e-4b82-a905-9b46ea0eee5c",
   "metadata": {},
   "outputs": [],
   "source": []
  },
  {
   "cell_type": "markdown",
   "id": "8be48b98-56e9-48cf-9830-bdcec32340dc",
   "metadata": {},
   "source": [
    "**Pre-Processing**"
   ]
  },
  {
   "cell_type": "code",
   "execution_count": 20,
   "id": "b1e46550-986f-481e-ab44-929c0a983034",
   "metadata": {},
   "outputs": [
    {
     "data": {
      "text/plain": [
       "(6362620, 11)"
      ]
     },
     "execution_count": 20,
     "metadata": {},
     "output_type": "execute_result"
    }
   ],
   "source": [
    "df.shape"
   ]
  },
  {
   "cell_type": "code",
   "execution_count": 21,
   "id": "d6e60f32-b8e3-413f-93f3-e5249ad670d4",
   "metadata": {},
   "outputs": [
    {
     "data": {
      "text/plain": [
       "5"
      ]
     },
     "execution_count": 21,
     "metadata": {},
     "output_type": "execute_result"
    }
   ],
   "source": [
    "len(df.type.unique())"
   ]
  },
  {
   "cell_type": "code",
   "execution_count": 22,
   "id": "34c5959c-8305-42de-abf4-b77b32cf74a6",
   "metadata": {},
   "outputs": [
    {
     "data": {
      "text/plain": [
       "6353307"
      ]
     },
     "execution_count": 22,
     "metadata": {},
     "output_type": "execute_result"
    }
   ],
   "source": [
    "len(df.nameOrig.unique())"
   ]
  },
  {
   "cell_type": "code",
   "execution_count": 23,
   "id": "9124a97c-11f2-453c-bec0-b33990c30a33",
   "metadata": {},
   "outputs": [
    {
     "data": {
      "text/plain": [
       "2722362"
      ]
     },
     "execution_count": 23,
     "metadata": {},
     "output_type": "execute_result"
    }
   ],
   "source": [
    "len(df.nameDest.unique())"
   ]
  },
  {
   "cell_type": "code",
   "execution_count": 24,
   "id": "af91756d-e63f-49ac-a32e-e79ef874e317",
   "metadata": {},
   "outputs": [
    {
     "data": {
      "text/html": [
       "<div>\n",
       "<style scoped>\n",
       "    .dataframe tbody tr th:only-of-type {\n",
       "        vertical-align: middle;\n",
       "    }\n",
       "\n",
       "    .dataframe tbody tr th {\n",
       "        vertical-align: top;\n",
       "    }\n",
       "\n",
       "    .dataframe thead th {\n",
       "        text-align: right;\n",
       "    }\n",
       "</style>\n",
       "<table border=\"1\" class=\"dataframe\">\n",
       "  <thead>\n",
       "    <tr style=\"text-align: right;\">\n",
       "      <th></th>\n",
       "      <th>nameOrig</th>\n",
       "      <th>nameDest</th>\n",
       "      <th>amount</th>\n",
       "      <th>oldbalanceOrg</th>\n",
       "      <th>newbalanceOrig</th>\n",
       "      <th>oldbalanceDest</th>\n",
       "      <th>newbalanceDest</th>\n",
       "    </tr>\n",
       "  </thead>\n",
       "  <tbody>\n",
       "    <tr>\n",
       "      <th>5178269</th>\n",
       "      <td>C312095651</td>\n",
       "      <td>C932707776</td>\n",
       "      <td>39203.49</td>\n",
       "      <td>0.00</td>\n",
       "      <td>0.00</td>\n",
       "      <td>2175822.92</td>\n",
       "      <td>2215026.41</td>\n",
       "    </tr>\n",
       "    <tr>\n",
       "      <th>2289733</th>\n",
       "      <td>C1937041896</td>\n",
       "      <td>C11139703</td>\n",
       "      <td>10819.44</td>\n",
       "      <td>41564.00</td>\n",
       "      <td>52383.44</td>\n",
       "      <td>4069180.05</td>\n",
       "      <td>4058360.61</td>\n",
       "    </tr>\n",
       "    <tr>\n",
       "      <th>3989792</th>\n",
       "      <td>C121572396</td>\n",
       "      <td>C1658563578</td>\n",
       "      <td>508291.14</td>\n",
       "      <td>39998.00</td>\n",
       "      <td>0.00</td>\n",
       "      <td>3463.66</td>\n",
       "      <td>511754.80</td>\n",
       "    </tr>\n",
       "    <tr>\n",
       "      <th>2165054</th>\n",
       "      <td>C267617443</td>\n",
       "      <td>C2130147842</td>\n",
       "      <td>83206.90</td>\n",
       "      <td>8500.00</td>\n",
       "      <td>0.00</td>\n",
       "      <td>38284.71</td>\n",
       "      <td>121491.61</td>\n",
       "    </tr>\n",
       "    <tr>\n",
       "      <th>5971165</th>\n",
       "      <td>C330420663</td>\n",
       "      <td>C1781254903</td>\n",
       "      <td>294688.27</td>\n",
       "      <td>20167.00</td>\n",
       "      <td>0.00</td>\n",
       "      <td>54225.78</td>\n",
       "      <td>348914.05</td>\n",
       "    </tr>\n",
       "    <tr>\n",
       "      <th>631912</th>\n",
       "      <td>C1100638369</td>\n",
       "      <td>C1942221275</td>\n",
       "      <td>52742.79</td>\n",
       "      <td>30996.00</td>\n",
       "      <td>83738.79</td>\n",
       "      <td>0.00</td>\n",
       "      <td>0.00</td>\n",
       "    </tr>\n",
       "    <tr>\n",
       "      <th>5171403</th>\n",
       "      <td>C1206425287</td>\n",
       "      <td>M1723804449</td>\n",
       "      <td>5352.50</td>\n",
       "      <td>59178.80</td>\n",
       "      <td>53826.30</td>\n",
       "      <td>0.00</td>\n",
       "      <td>0.00</td>\n",
       "    </tr>\n",
       "    <tr>\n",
       "      <th>3513891</th>\n",
       "      <td>C1121184963</td>\n",
       "      <td>M182625373</td>\n",
       "      <td>13485.46</td>\n",
       "      <td>1505.49</td>\n",
       "      <td>0.00</td>\n",
       "      <td>0.00</td>\n",
       "      <td>0.00</td>\n",
       "    </tr>\n",
       "    <tr>\n",
       "      <th>6192336</th>\n",
       "      <td>C430928857</td>\n",
       "      <td>C391677262</td>\n",
       "      <td>415636.39</td>\n",
       "      <td>420883.00</td>\n",
       "      <td>5246.61</td>\n",
       "      <td>0.00</td>\n",
       "      <td>415636.39</td>\n",
       "    </tr>\n",
       "    <tr>\n",
       "      <th>5249879</th>\n",
       "      <td>C993202189</td>\n",
       "      <td>M458701576</td>\n",
       "      <td>13236.12</td>\n",
       "      <td>0.00</td>\n",
       "      <td>0.00</td>\n",
       "      <td>0.00</td>\n",
       "      <td>0.00</td>\n",
       "    </tr>\n",
       "  </tbody>\n",
       "</table>\n",
       "</div>"
      ],
      "text/plain": [
       "            nameOrig     nameDest     amount  oldbalanceOrg  newbalanceOrig  \\\n",
       "5178269   C312095651   C932707776   39203.49           0.00            0.00   \n",
       "2289733  C1937041896    C11139703   10819.44       41564.00        52383.44   \n",
       "3989792   C121572396  C1658563578  508291.14       39998.00            0.00   \n",
       "2165054   C267617443  C2130147842   83206.90        8500.00            0.00   \n",
       "5971165   C330420663  C1781254903  294688.27       20167.00            0.00   \n",
       "631912   C1100638369  C1942221275   52742.79       30996.00        83738.79   \n",
       "5171403  C1206425287  M1723804449    5352.50       59178.80        53826.30   \n",
       "3513891  C1121184963   M182625373   13485.46        1505.49            0.00   \n",
       "6192336   C430928857   C391677262  415636.39      420883.00         5246.61   \n",
       "5249879   C993202189   M458701576   13236.12           0.00            0.00   \n",
       "\n",
       "         oldbalanceDest  newbalanceDest  \n",
       "5178269      2175822.92      2215026.41  \n",
       "2289733      4069180.05      4058360.61  \n",
       "3989792         3463.66       511754.80  \n",
       "2165054        38284.71       121491.61  \n",
       "5971165        54225.78       348914.05  \n",
       "631912             0.00            0.00  \n",
       "5171403            0.00            0.00  \n",
       "3513891            0.00            0.00  \n",
       "6192336            0.00       415636.39  \n",
       "5249879            0.00            0.00  "
      ]
     },
     "execution_count": 24,
     "metadata": {},
     "output_type": "execute_result"
    }
   ],
   "source": [
    "df[['nameOrig', 'nameDest',  'amount', 'oldbalanceOrg', 'newbalanceOrig', 'oldbalanceDest', 'newbalanceDest']].sample(10)"
   ]
  },
  {
   "cell_type": "code",
   "execution_count": 25,
   "id": "a82c3738-31b4-43f7-a3e3-f8a82434a601",
   "metadata": {},
   "outputs": [
    {
     "data": {
      "text/plain": [
       "(2439433, 11)"
      ]
     },
     "execution_count": 25,
     "metadata": {},
     "output_type": "execute_result"
    }
   ],
   "source": [
    "df[df.newbalanceDest == 0.0].shape"
   ]
  },
  {
   "cell_type": "code",
   "execution_count": 27,
   "id": "70bacb15-271d-4a59-b426-1ee79fb1f2d8",
   "metadata": {},
   "outputs": [],
   "source": [
    "numeric_cols = ['step', 'amount', 'oldbalanceOrg', 'newbalanceOrig', \n",
    "                'oldbalanceDest', 'newbalanceDest']\n",
    "\n",
    "cat_cols = ['type']\n",
    "\n",
    "label = 'isFraud'\n",
    "ground_label = 'isFlaggedFraud'"
   ]
  },
  {
   "cell_type": "code",
   "execution_count": 28,
   "id": "8b872da2-e2a7-44b6-b8bc-912a0734115e",
   "metadata": {},
   "outputs": [
    {
     "data": {
      "text/plain": [
       "type\n",
       "CASH_OUT    2237500\n",
       "PAYMENT     2151495\n",
       "CASH_IN     1399284\n",
       "TRANSFER     532909\n",
       "DEBIT         41432\n",
       "Name: count, dtype: int64"
      ]
     },
     "execution_count": 28,
     "metadata": {},
     "output_type": "execute_result"
    }
   ],
   "source": [
    "df.type.value_counts()"
   ]
  },
  {
   "cell_type": "code",
   "execution_count": 29,
   "id": "e33f43a6-9e88-4613-9557-4f4d38f5d3ca",
   "metadata": {},
   "outputs": [],
   "source": [
    "# encode type: <logic: onehot encoding>\n",
    "\n",
    "# oe = OneHotEncoder()\n",
    "df_encoded = pd.get_dummies(df, prefix=['type'], columns = ['type'], drop_first=False)"
   ]
  },
  {
   "cell_type": "code",
   "execution_count": 30,
   "id": "c6463881-878e-4a21-af9d-86f37f36e088",
   "metadata": {},
   "outputs": [
    {
     "data": {
      "text/plain": [
       "(6362620, 15)"
      ]
     },
     "execution_count": 30,
     "metadata": {},
     "output_type": "execute_result"
    }
   ],
   "source": [
    "df_encoded.shape"
   ]
  },
  {
   "cell_type": "code",
   "execution_count": 31,
   "id": "932f1ed9-acfb-4c8d-8934-fb6ccc0a12f9",
   "metadata": {},
   "outputs": [
    {
     "data": {
      "text/plain": [
       "Index(['step', 'amount', 'nameOrig', 'oldbalanceOrg', 'newbalanceOrig',\n",
       "       'nameDest', 'oldbalanceDest', 'newbalanceDest', 'isFraud',\n",
       "       'isFlaggedFraud', 'type_CASH_IN', 'type_CASH_OUT', 'type_DEBIT',\n",
       "       'type_PAYMENT', 'type_TRANSFER'],\n",
       "      dtype='object')"
      ]
     },
     "execution_count": 31,
     "metadata": {},
     "output_type": "execute_result"
    }
   ],
   "source": [
    "df_encoded.columns"
   ]
  },
  {
   "cell_type": "code",
   "execution_count": 32,
   "id": "fa6c1959-624f-4fde-898f-813c10d0d531",
   "metadata": {},
   "outputs": [],
   "source": [
    "encoded_cols = ['type_CASH_IN', 'type_CASH_OUT', 'type_DEBIT', 'type_PAYMENT', 'type_TRANSFER']"
   ]
  },
  {
   "cell_type": "code",
   "execution_count": null,
   "id": "016e1cef-918b-40f5-980d-d3cdea5d40c3",
   "metadata": {},
   "outputs": [],
   "source": []
  },
  {
   "cell_type": "markdown",
   "id": "952ec9c2-0b5d-4f27-b48b-333b995a7605",
   "metadata": {},
   "source": [
    "**Data Creation**"
   ]
  },
  {
   "cell_type": "code",
   "execution_count": 33,
   "id": "ca4c0c25-a900-4fa8-81ed-6c122e17e29b",
   "metadata": {},
   "outputs": [
    {
     "data": {
      "text/plain": [
       "((6362620, 11), (6362620, 1))"
      ]
     },
     "execution_count": 33,
     "metadata": {},
     "output_type": "execute_result"
    }
   ],
   "source": [
    "X = df_encoded[numeric_cols + encoded_cols]\n",
    "y = df_encoded[[label]]\n",
    "\n",
    "X.shape, y.shape"
   ]
  },
  {
   "cell_type": "code",
   "execution_count": 34,
   "id": "077eff91-345c-4851-a09a-da0201aee5d2",
   "metadata": {},
   "outputs": [
    {
     "name": "stdout",
     "output_type": "stream",
     "text": [
      "x_train shape is  (4453834, 11)\n",
      "x_test shape is  (1908786, 11)\n",
      "y_train shape is  (4453834, 1)\n",
      "y_test shape is  (1908786, 1)\n"
     ]
    }
   ],
   "source": [
    "x_train, x_test, y_train, y_test = train_test_split(X, y, \n",
    "                                                    test_size = 0.3, \n",
    "                                                    shuffle=True, \n",
    "                                                    stratify=y, \n",
    "                                                    random_state=42, # for reproducibility\n",
    "                                                   )\n",
    "print('x_train shape is ' , x_train.shape)\n",
    "print('x_test shape is ' , x_test.shape)\n",
    "print('y_train shape is ' , y_train.shape)\n",
    "print('y_test shape is ' , y_test.shape)"
   ]
  },
  {
   "cell_type": "code",
   "execution_count": null,
   "id": "d6f52f01-5bfb-4081-b01b-3bed606fced9",
   "metadata": {},
   "outputs": [],
   "source": []
  },
  {
   "cell_type": "markdown",
   "id": "73d891f3-1489-45a5-ad3d-a0e3a0519877",
   "metadata": {},
   "source": [
    "**Feature Selection**"
   ]
  },
  {
   "cell_type": "code",
   "execution_count": 35,
   "id": "3503eb78-5575-4e98-8699-4f5e39bc4655",
   "metadata": {},
   "outputs": [
    {
     "data": {
      "text/plain": [
       "RandomForestClassifier(max_depth=10, n_jobs=-1, random_state=42)"
      ]
     },
     "execution_count": 35,
     "metadata": {},
     "output_type": "execute_result"
    }
   ],
   "source": [
    "# no class weight\n",
    "rf_clf1 = RandomForestClassifier(n_estimators=100, \n",
    "                                 max_depth=10, \n",
    "                                 n_jobs=-1, \n",
    "                                 random_state=42, \n",
    "                                 class_weight=None\n",
    "                                )\n",
    "\n",
    "rf_clf1.fit(x_train, y_train)"
   ]
  },
  {
   "cell_type": "code",
   "execution_count": 36,
   "id": "50d81185-d238-4ddb-86d5-bf9d7b39c40c",
   "metadata": {},
   "outputs": [
    {
     "name": "stdout",
     "output_type": "stream",
     "text": [
      "RF AUC train set: 0.9973849932089492\n",
      "RF AUC train set: 0.996559149762478\n",
      "RF ACCURACY train set: 0.9996405344249472\n",
      "RF ACCURACY test set: 0.9996269880437094\n"
     ]
    }
   ],
   "source": [
    "y_pred_tr = rf_clf1.predict_proba(x_train)\n",
    "y_pred = rf_clf1.predict_proba(x_test)\n",
    "\n",
    "print(f\"RF AUC train set: {roc_auc_score(y_train, y_pred_tr[:, 1])}\")\n",
    "print(f\"RF AUC train set: {roc_auc_score(y_test, y_pred[:, 1])}\")\n",
    "\n",
    "print(f\"RF ACCURACY train set: {accuracy_score(y_train, rf_clf1.predict(x_train))}\")\n",
    "print(f\"RF ACCURACY test set: {accuracy_score(y_test, rf_clf1.predict(x_test))}\")"
   ]
  },
  {
   "cell_type": "code",
   "execution_count": 37,
   "id": "15ba236c-68b5-43c9-a98d-b239d452c29f",
   "metadata": {},
   "outputs": [],
   "source": [
    "# feat_imp = map(list(df_encoded.columns), list(rf_clf1.feature_importances_))\n",
    "# print(feat_imp)\n",
    "\n",
    "df_feat_imp = pd.DataFrame(data=pd.concat([pd.Series(X.columns), pd.Series(rf_clf1.feature_importances_)], axis=1))\n",
    "df_feat_imp.columns = ['Features', 'Importance_score']"
   ]
  },
  {
   "cell_type": "code",
   "execution_count": 38,
   "id": "19da4694-5da5-41db-b10a-d33e90ed360b",
   "metadata": {},
   "outputs": [
    {
     "data": {
      "text/html": [
       "<div>\n",
       "<style scoped>\n",
       "    .dataframe tbody tr th:only-of-type {\n",
       "        vertical-align: middle;\n",
       "    }\n",
       "\n",
       "    .dataframe tbody tr th {\n",
       "        vertical-align: top;\n",
       "    }\n",
       "\n",
       "    .dataframe thead th {\n",
       "        text-align: right;\n",
       "    }\n",
       "</style>\n",
       "<table border=\"1\" class=\"dataframe\">\n",
       "  <thead>\n",
       "    <tr style=\"text-align: right;\">\n",
       "      <th></th>\n",
       "      <th>Features</th>\n",
       "      <th>Importance_score</th>\n",
       "    </tr>\n",
       "  </thead>\n",
       "  <tbody>\n",
       "    <tr>\n",
       "      <th>0</th>\n",
       "      <td>step</td>\n",
       "      <td>0.074575</td>\n",
       "    </tr>\n",
       "    <tr>\n",
       "      <th>1</th>\n",
       "      <td>amount</td>\n",
       "      <td>0.134617</td>\n",
       "    </tr>\n",
       "    <tr>\n",
       "      <th>2</th>\n",
       "      <td>oldbalanceOrg</td>\n",
       "      <td>0.278464</td>\n",
       "    </tr>\n",
       "    <tr>\n",
       "      <th>3</th>\n",
       "      <td>newbalanceOrig</td>\n",
       "      <td>0.039642</td>\n",
       "    </tr>\n",
       "    <tr>\n",
       "      <th>4</th>\n",
       "      <td>oldbalanceDest</td>\n",
       "      <td>0.059440</td>\n",
       "    </tr>\n",
       "    <tr>\n",
       "      <th>5</th>\n",
       "      <td>newbalanceDest</td>\n",
       "      <td>0.318241</td>\n",
       "    </tr>\n",
       "    <tr>\n",
       "      <th>6</th>\n",
       "      <td>type_CASH_IN</td>\n",
       "      <td>0.004966</td>\n",
       "    </tr>\n",
       "    <tr>\n",
       "      <th>7</th>\n",
       "      <td>type_CASH_OUT</td>\n",
       "      <td>0.032396</td>\n",
       "    </tr>\n",
       "    <tr>\n",
       "      <th>8</th>\n",
       "      <td>type_DEBIT</td>\n",
       "      <td>0.000079</td>\n",
       "    </tr>\n",
       "    <tr>\n",
       "      <th>9</th>\n",
       "      <td>type_PAYMENT</td>\n",
       "      <td>0.002634</td>\n",
       "    </tr>\n",
       "    <tr>\n",
       "      <th>10</th>\n",
       "      <td>type_TRANSFER</td>\n",
       "      <td>0.054946</td>\n",
       "    </tr>\n",
       "  </tbody>\n",
       "</table>\n",
       "</div>"
      ],
      "text/plain": [
       "          Features  Importance_score\n",
       "0             step          0.074575\n",
       "1           amount          0.134617\n",
       "2    oldbalanceOrg          0.278464\n",
       "3   newbalanceOrig          0.039642\n",
       "4   oldbalanceDest          0.059440\n",
       "5   newbalanceDest          0.318241\n",
       "6     type_CASH_IN          0.004966\n",
       "7    type_CASH_OUT          0.032396\n",
       "8       type_DEBIT          0.000079\n",
       "9     type_PAYMENT          0.002634\n",
       "10   type_TRANSFER          0.054946"
      ]
     },
     "execution_count": 38,
     "metadata": {},
     "output_type": "execute_result"
    }
   ],
   "source": [
    "df_feat_imp"
   ]
  },
  {
   "cell_type": "code",
   "execution_count": null,
   "id": "2d534b2e-951c-4af7-81d1-fd06ae545ee7",
   "metadata": {},
   "outputs": [],
   "source": [
    "\"\"\"\n",
    "We are not eliminating any features in this case.\n",
    "\"\"\""
   ]
  },
  {
   "cell_type": "markdown",
   "id": "766749cc-0bae-4aae-b23b-afecd3bf8694",
   "metadata": {},
   "source": [
    "**Fit XGBoost**"
   ]
  },
  {
   "cell_type": "code",
   "execution_count": 39,
   "id": "3f8a969e-46d9-4019-9e86-39114fcdf94c",
   "metadata": {},
   "outputs": [
    {
     "data": {
      "text/plain": [
       "XGBClassifier(base_score=None, booster='gbtree', callbacks=None,\n",
       "              colsample_bylevel=None, colsample_bynode=None,\n",
       "              colsample_bytree=None, device=None, early_stopping_rounds=None,\n",
       "              enable_categorical=False, eval_metric=None, feature_types=None,\n",
       "              gamma=None, grow_policy=None, importance_type=None,\n",
       "              interaction_constraints=None, learning_rate=0.01, max_bin=None,\n",
       "              max_cat_threshold=None, max_cat_to_onehot=None,\n",
       "              max_delta_step=None, max_depth=10, max_leaves=None,\n",
       "              min_child_weight=None, missing=nan, monotone_constraints=None,\n",
       "              multi_strategy=None, n_estimators=200, n_jobs=-1,\n",
       "              num_parallel_tree=None, random_state=42, ...)"
      ]
     },
     "execution_count": 39,
     "metadata": {},
     "output_type": "execute_result"
    }
   ],
   "source": [
    "xgb_clf = xgb.XGBClassifier(booster='gbtree', \n",
    "                            n_estimators=200, \n",
    "                            max_depth=10, \n",
    "                            learning_rate=0.01, \n",
    "                            tree_method='hist', \n",
    "                            n_jobs=-1, \n",
    "                            # scale_pos_weight, \n",
    "                            random_state=42, \n",
    "                           )\n",
    "\n",
    "xgb_clf.fit(x_train, y_train)"
   ]
  },
  {
   "cell_type": "code",
   "execution_count": 40,
   "id": "e3a7c298-bee1-4e28-89d8-08c0c1f534c5",
   "metadata": {},
   "outputs": [
    {
     "name": "stdout",
     "output_type": "stream",
     "text": [
      "XGB AUC train set: 0.998531379075609\n",
      "XGB AUC train set: 0.9981873355506015\n",
      "XGB ACCURACY train set: 0.9996699472858666\n",
      "XGB ACCURACY test set: 0.9996463720919998\n"
     ]
    }
   ],
   "source": [
    "y_pred_tr = xgb_clf.predict_proba(x_train)\n",
    "y_pred = xgb_clf.predict_proba(x_test)\n",
    "\n",
    "print(f\"XGB AUC train set: {roc_auc_score(y_train, y_pred_tr[:, 1])}\")\n",
    "print(f\"XGB AUC train set: {roc_auc_score(y_test, y_pred[:, 1])}\")\n",
    "\n",
    "print(f\"XGB ACCURACY train set: {accuracy_score(y_train, xgb_clf.predict(x_train))}\")\n",
    "print(f\"XGB ACCURACY test set: {accuracy_score(y_test, xgb_clf.predict(x_test))}\")"
   ]
  },
  {
   "cell_type": "code",
   "execution_count": 41,
   "id": "efc07fce-9f85-4771-8db7-e46ff1cc627e",
   "metadata": {},
   "outputs": [
    {
     "name": "stdout",
     "output_type": "stream",
     "text": [
      "              precision    recall  f1-score   support\n",
      "\n",
      "           0       1.00      1.00      1.00   1906322\n",
      "           1       0.98      0.74      0.84      2464\n",
      "\n",
      "    accuracy                           1.00   1908786\n",
      "   macro avg       0.99      0.87      0.92   1908786\n",
      "weighted avg       1.00      1.00      1.00   1908786\n",
      "\n"
     ]
    }
   ],
   "source": [
    "print(classification_report(y_true=y_test, y_pred=xgb_clf.predict(x_test)))"
   ]
  },
  {
   "cell_type": "code",
   "execution_count": 42,
   "id": "7dbe67e6-7c30-4c89-b3e3-d29abd106566",
   "metadata": {},
   "outputs": [
    {
     "name": "stdout",
     "output_type": "stream",
     "text": [
      "[[1906286      36]\n",
      " [    639    1825]]\n"
     ]
    }
   ],
   "source": [
    "print(confusion_matrix(y_true=y_test, y_pred=xgb_clf.predict(x_test)))"
   ]
  },
  {
   "cell_type": "code",
   "execution_count": 43,
   "id": "fab7b47f-fe26-4836-97a3-3155c15bd892",
   "metadata": {},
   "outputs": [
    {
     "data": {
      "text/plain": [
       "array([0.01784205, 0.04813153, 0.15989871, 0.11321739, 0.05575914,\n",
       "       0.4741771 , 0.        , 0.03661154, 0.00630376, 0.0182411 ,\n",
       "       0.06981769], dtype=float32)"
      ]
     },
     "execution_count": 43,
     "metadata": {},
     "output_type": "execute_result"
    }
   ],
   "source": [
    "xgb_clf.feature_importances_"
   ]
  },
  {
   "cell_type": "code",
   "execution_count": 44,
   "id": "d0ba49cc-3bfa-4dd6-980c-5406d5479f8c",
   "metadata": {},
   "outputs": [
    {
     "data": {
      "text/html": [
       "<div>\n",
       "<style scoped>\n",
       "    .dataframe tbody tr th:only-of-type {\n",
       "        vertical-align: middle;\n",
       "    }\n",
       "\n",
       "    .dataframe tbody tr th {\n",
       "        vertical-align: top;\n",
       "    }\n",
       "\n",
       "    .dataframe thead th {\n",
       "        text-align: right;\n",
       "    }\n",
       "</style>\n",
       "<table border=\"1\" class=\"dataframe\">\n",
       "  <thead>\n",
       "    <tr style=\"text-align: right;\">\n",
       "      <th></th>\n",
       "      <th>Features</th>\n",
       "      <th>Importance_score</th>\n",
       "    </tr>\n",
       "  </thead>\n",
       "  <tbody>\n",
       "    <tr>\n",
       "      <th>0</th>\n",
       "      <td>step</td>\n",
       "      <td>0.017842</td>\n",
       "    </tr>\n",
       "    <tr>\n",
       "      <th>1</th>\n",
       "      <td>amount</td>\n",
       "      <td>0.048132</td>\n",
       "    </tr>\n",
       "    <tr>\n",
       "      <th>2</th>\n",
       "      <td>oldbalanceOrg</td>\n",
       "      <td>0.159899</td>\n",
       "    </tr>\n",
       "    <tr>\n",
       "      <th>3</th>\n",
       "      <td>newbalanceOrig</td>\n",
       "      <td>0.113217</td>\n",
       "    </tr>\n",
       "    <tr>\n",
       "      <th>4</th>\n",
       "      <td>oldbalanceDest</td>\n",
       "      <td>0.055759</td>\n",
       "    </tr>\n",
       "    <tr>\n",
       "      <th>5</th>\n",
       "      <td>newbalanceDest</td>\n",
       "      <td>0.474177</td>\n",
       "    </tr>\n",
       "    <tr>\n",
       "      <th>6</th>\n",
       "      <td>type_CASH_IN</td>\n",
       "      <td>0.000000</td>\n",
       "    </tr>\n",
       "    <tr>\n",
       "      <th>7</th>\n",
       "      <td>type_CASH_OUT</td>\n",
       "      <td>0.036612</td>\n",
       "    </tr>\n",
       "    <tr>\n",
       "      <th>8</th>\n",
       "      <td>type_DEBIT</td>\n",
       "      <td>0.006304</td>\n",
       "    </tr>\n",
       "    <tr>\n",
       "      <th>9</th>\n",
       "      <td>type_PAYMENT</td>\n",
       "      <td>0.018241</td>\n",
       "    </tr>\n",
       "    <tr>\n",
       "      <th>10</th>\n",
       "      <td>type_TRANSFER</td>\n",
       "      <td>0.069818</td>\n",
       "    </tr>\n",
       "  </tbody>\n",
       "</table>\n",
       "</div>"
      ],
      "text/plain": [
       "          Features  Importance_score\n",
       "0             step          0.017842\n",
       "1           amount          0.048132\n",
       "2    oldbalanceOrg          0.159899\n",
       "3   newbalanceOrig          0.113217\n",
       "4   oldbalanceDest          0.055759\n",
       "5   newbalanceDest          0.474177\n",
       "6     type_CASH_IN          0.000000\n",
       "7    type_CASH_OUT          0.036612\n",
       "8       type_DEBIT          0.006304\n",
       "9     type_PAYMENT          0.018241\n",
       "10   type_TRANSFER          0.069818"
      ]
     },
     "execution_count": 44,
     "metadata": {},
     "output_type": "execute_result"
    }
   ],
   "source": [
    "df_xgb_feat_imp = pd.DataFrame(data=pd.concat([pd.Series(X.columns), pd.Series(xgb_clf.feature_importances_)], axis=1))\n",
    "df_xgb_feat_imp.columns = ['Features', 'Importance_score']\n",
    "df_xgb_feat_imp"
   ]
  },
  {
   "cell_type": "code",
   "execution_count": null,
   "id": "738eedae-6049-4b4d-bdd6-6db6b01c39cb",
   "metadata": {},
   "outputs": [],
   "source": []
  },
  {
   "cell_type": "markdown",
   "id": "8b7d39f8-a2c6-43fb-b935-d0e9acde68fa",
   "metadata": {},
   "source": [
    "**Hyperparameter Tuning**"
   ]
  },
  {
   "cell_type": "code",
   "execution_count": 54,
   "id": "6df1efeb-c27a-4ff3-b6d0-51301b7f17da",
   "metadata": {},
   "outputs": [],
   "source": [
    "def objective(params):\n",
    " \n",
    "    model = XGBClassifier(\n",
    "        n_estimators=int(params['n_estimators']),\n",
    "        learning_rate=params['learning_rate'],\n",
    "        max_depth=int(params['max_depth']),\n",
    "        subsample=params['subsample'],\n",
    "        colsample_bytree=params['colsample_bytree'],\n",
    "        gamma=params['gamma'],\n",
    "        reg_alpha=params['reg_alpha'],\n",
    "        reg_lambda=params['reg_lambda'],\n",
    "        scale_pos_weight=params['scale_pos_weight'],\n",
    "        use_label_encoder=False \n",
    "    )\n",
    "    \n",
    "\n",
    "    model.fit(x_train, y_train)\n",
    "    y_pred = model.predict_proba(x_test)[:, 1]\n",
    "    auc_score = roc_auc_score(y_test, y_pred)\n",
    "\n",
    "    return -auc_score\n"
   ]
  },
  {
   "cell_type": "code",
   "execution_count": 55,
   "id": "d3ebe847-59cf-4ad5-8526-922e6f3a59f5",
   "metadata": {},
   "outputs": [],
   "source": [
    "space = {\n",
    "    'n_estimators': hp.quniform('n_estimators', 100, 1000, 50),\n",
    "    'learning_rate': hp.loguniform('learning_rate', np.log(0.01), np.log(0.3)),\n",
    "    'max_depth': hp.quniform('max_depth', 3, 10, 1),\n",
    "    'subsample': hp.uniform('subsample', 0.6, 1.0),\n",
    "    'colsample_bytree': hp.uniform('colsample_bytree', 0.6, 1.0),\n",
    "    'gamma': hp.uniform('gamma', 0.0, 1.0),\n",
    "    'reg_alpha': hp.loguniform('reg_alpha', np.log(0.001), np.log(1.0)),\n",
    "    'reg_lambda': hp.loguniform('reg_lambda', np.log(0.001), np.log(1.0)),\n",
    "    'scale_pos_weight': hp.uniform('scale_pos_weight', 1, 3)\n",
    "}\n"
   ]
  },
  {
   "cell_type": "code",
   "execution_count": 56,
   "id": "2a42ca3f-ee9c-4ebc-b137-b6d64e4bbafd",
   "metadata": {},
   "outputs": [
    {
     "name": "stdout",
     "output_type": "stream",
     "text": [
      "100%|█████| 50/50 [1:25:13<00:00, 102.28s/trial, best loss: -0.9998298271641521]\n",
      "Best Hyperparameters:\n",
      "{'colsample_bytree': 0.9972775414874905, 'gamma': 0.33025071660188887, 'learning_rate': 0.1154549304425997, 'max_depth': 8.0, 'n_estimators': 800.0, 'reg_alpha': 0.9412947581254824, 'reg_lambda': 0.5971265860700231, 'scale_pos_weight': 2.476501599045624, 'subsample': 0.9857996925389791}\n"
     ]
    }
   ],
   "source": [
    "trials = Trials()\n",
    "\n",
    "best = fmin(\n",
    "    fn=objective,\n",
    "    space=space,\n",
    "    algo=tpe.suggest,\n",
    "    max_evals=50, \n",
    "    trials=trials\n",
    ")\n",
    "\n",
    "print(\"Best Hyperparameters:\")\n",
    "print(best)"
   ]
  },
  {
   "cell_type": "code",
   "execution_count": 59,
   "id": "0e8fba3b-7e48-464f-a4b2-39b25495498c",
   "metadata": {},
   "outputs": [
    {
     "data": {
      "text/plain": [
       "XGBClassifier(base_score=None, booster='gbtree', callbacks=None,\n",
       "              colsample_bylevel=None, colsample_bynode=None,\n",
       "              colsample_bytree=0.9972775414874905, device=None,\n",
       "              early_stopping_rounds=None, enable_categorical=False,\n",
       "              eval_metric=None, feature_types=None, gamma=0.33025071660188887,\n",
       "              grow_policy=None, importance_type=None,\n",
       "              interaction_constraints=None, learning_rate=0.1154549304425997,\n",
       "              max_bin=None, max_cat_threshold=None, max_cat_to_onehot=None,\n",
       "              max_delta_step=None, max_depth=8, max_leaves=None,\n",
       "              min_child_weight=None, missing=nan, monotone_constraints=None,\n",
       "              multi_strategy=None, n_estimators=800, n_jobs=-1,\n",
       "              num_parallel_tree=None, random_state=42, ...)"
      ]
     },
     "execution_count": 59,
     "metadata": {},
     "output_type": "execute_result"
    }
   ],
   "source": [
    "xgb_clf1 = xgb.XGBClassifier(booster='gbtree', \n",
    "                            tree_method='hist', \n",
    "                            n_jobs=-1,\n",
    "                            random_state=42,\n",
    "                            colsample_bytree=0.9972775414874905,\n",
    "                            gamma= 0.33025071660188887,\n",
    "                            learning_rate= 0.1154549304425997,\n",
    "                            max_depth= 8,\n",
    "                            n_estimators= 800,\n",
    "                            reg_alpha= 0.9412947581254824,\n",
    "                            reg_lambda= 0.5971265860700231,\n",
    "                            scale_pos_weight= 2.476501599045624,\n",
    "                            subsample= 0.9857996925389791\n",
    "                           )\n",
    "\n",
    "xgb_clf1.fit(x_train, y_train)"
   ]
  },
  {
   "cell_type": "code",
   "execution_count": 60,
   "id": "d700a464-4bd5-477d-95da-813a3132682c",
   "metadata": {},
   "outputs": [
    {
     "name": "stdout",
     "output_type": "stream",
     "text": [
      "XGB AUC train set: 0.9999966003495325\n",
      "XGB AUC train set: 0.9998389896879961\n",
      "XGB ACCURACY train set: 0.9999315196749587\n",
      "XGB ACCURACY test set: 0.9997694869933036\n"
     ]
    }
   ],
   "source": [
    "y_pred_tr = xgb_clf1.predict_proba(x_train)\n",
    "y_pred = xgb_clf1.predict_proba(x_test)\n",
    "\n",
    "print(f\"XGB AUC train set: {roc_auc_score(y_train, y_pred_tr[:, 1])}\")\n",
    "print(f\"XGB AUC train set: {roc_auc_score(y_test, y_pred[:, 1])}\")\n",
    "\n",
    "print(f\"XGB ACCURACY train set: {accuracy_score(y_train, xgb_clf1.predict(x_train))}\")\n",
    "print(f\"XGB ACCURACY test set: {accuracy_score(y_test, xgb_clf1.predict(x_test))}\")"
   ]
  },
  {
   "cell_type": "code",
   "execution_count": 61,
   "id": "06b14079-2af6-40c0-9d86-2b4a1455cf3f",
   "metadata": {},
   "outputs": [
    {
     "name": "stdout",
     "output_type": "stream",
     "text": [
      "              precision    recall  f1-score   support\n",
      "\n",
      "           0       1.00      1.00      1.00   1906322\n",
      "           1       0.98      0.74      0.84      2464\n",
      "\n",
      "    accuracy                           1.00   1908786\n",
      "   macro avg       0.99      0.87      0.92   1908786\n",
      "weighted avg       1.00      1.00      1.00   1908786\n",
      "\n"
     ]
    }
   ],
   "source": [
    "print(classification_report(y_true=y_test, y_pred=xgb_clf.predict(x_test)))"
   ]
  },
  {
   "cell_type": "code",
   "execution_count": 63,
   "id": "e9c694ad-1d4e-46ef-9bf1-cf5249505ce0",
   "metadata": {},
   "outputs": [],
   "source": [
    "cm=confusion_matrix(y_true=y_test, y_pred=xgb_clf.predict(x_test))"
   ]
  },
  {
   "cell_type": "code",
   "execution_count": 64,
   "id": "f96c9d21-7a7a-4e44-ab2b-da881884281a",
   "metadata": {},
   "outputs": [
    {
     "data": {
      "image/png": "[encoded data removed]",
      "text/plain": [
       "<Figure size 720x504 with 2 Axes>"
      ]
     },
     "metadata": {
      "needs_background": "light"
     },
     "output_type": "display_data"
    }
   ],
   "source": [
    "plt.figure(figsize=(10, 7))\n",
    "sns.heatmap(cm, annot=True, fmt='d', cmap='Blues')\n",
    "plt.xlabel('Predicted')\n",
    "plt.ylabel('Actual')\n",
    "plt.title('Confusion Matrix')\n",
    "plt.show()"
   ]
  },
  {
   "cell_type": "code",
   "execution_count": null,
   "id": "e32937b6-8e09-4ded-8666-b8bf491dce87",
   "metadata": {},
   "outputs": [],
   "source": []
  }
 ],
 "metadata": {
  "kernelspec": {
   "display_name": "Python 3 (ipykernel)",
   "language": "python",
   "name": "python3"
  },
  "language_info": {
   "codemirror_mode": {
    "name": "ipython",
    "version": 3
   },
   "file_extension": ".py",
   "mimetype": "text/x-python",
   "name": "python",
   "nbconvert_exporter": "python",
   "pygments_lexer": "ipython3",
   "version": "3.9.12"
  }
 },
 "nbformat": 4,
 "nbformat_minor": 5
}
